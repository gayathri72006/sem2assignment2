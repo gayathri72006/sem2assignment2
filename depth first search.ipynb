{
 "cells": [
  {
   "cell_type": "code",
   "execution_count": 37,
   "id": "0136e0c9-4151-46a0-8106-b9325cee3551",
   "metadata": {},
   "outputs": [],
   "source": [
    "graph={\n",
    "    'Sam':['Aaron','Binny'],\n",
    "    'Aaron':['Sam','Christine','Danny'],\n",
    "    'Binny':['Elvin','Flin'],\n",
    "    'Christine':['Aaron'],\n",
    "    'Danny':['Aaron'],\n",
    "    'Elvin':['Binny','Gini'],\n",
    "    'Flin':['Binny'],\n",
    "    'Gini':['Elvin']\n",
    "}    "
   ]
  },
  {
   "cell_type": "code",
   "execution_count": 40,
   "id": "147a0e0f-4d66-4733-90e4-c0f324f79961",
   "metadata": {},
   "outputs": [],
   "source": [
    "def dfs(graph,Start,Goal,visited):\n",
    "    stack=[Start]\n",
    "    while stack:\n",
    "        node = stack.pop()\n",
    "        if node not in visited:\n",
    "            visited.append(node)\n",
    "            if node==Goal:\n",
    "                print(visited)\n",
    "            for neighbours in graph[node]:\n",
    "                dfs(graph,neighbours,Goal,visited)"
   ]
  },
  {
   "cell_type": "code",
   "execution_count": 41,
   "id": "c248c4ae-2222-4c14-935f-823634ea58a6",
   "metadata": {},
   "outputs": [
    {
     "name": "stdout",
     "output_type": "stream",
     "text": [
      "['Sam', 'Aaron', 'Christine', 'Danny', 'Binny', 'Elvin', 'Gini']\n"
     ]
    }
   ],
   "source": [
    "dfs(graph,'Sam','Gini',[])"
   ]
  }
 ],
 "metadata": {
  "kernelspec": {
   "display_name": "Python 3 (ipykernel)",
   "language": "python",
   "name": "python3"
  },
  "language_info": {
   "codemirror_mode": {
    "name": "ipython",
    "version": 3
   },
   "file_extension": ".py",
   "mimetype": "text/x-python",
   "name": "python",
   "nbconvert_exporter": "python",
   "pygments_lexer": "ipython3",
   "version": "3.9.18"
  }
 },
 "nbformat": 4,
 "nbformat_minor": 5
}
