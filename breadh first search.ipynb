{
 "cells": [
  {
   "cell_type": "code",
   "execution_count": 1,
   "id": "c7060099-cd9e-4938-b7df-1a8ba7963f90",
   "metadata": {},
   "outputs": [],
   "source": [
    "graph={\n",
    "    'Sam':['Aaron','Binny'],\n",
    "    'Aaron':['Sam','Christine','Danny'],\n",
    "    'Binny':['Elvin','Flin'],\n",
    "    'Christine':['Aaron'],\n",
    "    'Danny':['Aaron'],\n",
    "    'Elvin':['Binny','Gini'],\n",
    "    'Flin':['Binny'],\n",
    "    'Gini':['Elvin']\n",
    "}    "
   ]
  },
  {
   "cell_type": "code",
   "execution_count": 2,
   "id": "fe913754-9a41-4190-afd0-d38c84f9018f",
   "metadata": {},
   "outputs": [],
   "source": [
    "from collections import deque\n",
    "def bfs (graph,Start,Goal):\n",
    "     visited=[]\n",
    "     queue=deque([Start])\n",
    "     while queue:\n",
    "        node=queue.popleft()\n",
    "        if node not in visited:\n",
    "            visited.append(node)\n",
    "            print(\"I have visited:\",node)\n",
    "            neighbours=graph[node]\n",
    "            if node==Goal:\n",
    "                return (\"I have reached the goal,this is my traversed path\",visited)\n",
    "            for neighbour in neighbours:\n",
    "                        queue.append(neighbour)"
   ]
  },
  {
   "cell_type": "code",
   "execution_count": 3,
   "id": "c6309971-32dd-4da4-9622-bdc52a67b940",
   "metadata": {},
   "outputs": [
    {
     "name": "stdout",
     "output_type": "stream",
     "text": [
      "I have visited: Sam\n",
      "I have visited: Aaron\n",
      "I have visited: Binny\n",
      "I have visited: Christine\n",
      "I have visited: Danny\n",
      "I have visited: Elvin\n",
      "I have visited: Flin\n",
      "I have visited: Gini\n"
     ]
    },
    {
     "data": {
      "text/plain": [
       "('I have reached the goal,this is my traversed path',\n",
       " ['Sam', 'Aaron', 'Binny', 'Christine', 'Danny', 'Elvin', 'Flin', 'Gini'])"
      ]
     },
     "execution_count": 3,
     "metadata": {},
     "output_type": "execute_result"
    }
   ],
   "source": [
    "bfs(graph,'Sam','Gini')"
   ]
  },
  {
   "cell_type": "code",
   "execution_count": null,
   "id": "5b6cec18-ac71-4d49-a739-79757852f94c",
   "metadata": {},
   "outputs": [],
   "source": []
  }
 ],
 "metadata": {
  "kernelspec": {
   "display_name": "Python 3 (ipykernel)",
   "language": "python",
   "name": "python3"
  },
  "language_info": {
   "codemirror_mode": {
    "name": "ipython",
    "version": 3
   },
   "file_extension": ".py",
   "mimetype": "text/x-python",
   "name": "python",
   "nbconvert_exporter": "python",
   "pygments_lexer": "ipython3",
   "version": "3.9.18"
  }
 },
 "nbformat": 4,
 "nbformat_minor": 5
}
